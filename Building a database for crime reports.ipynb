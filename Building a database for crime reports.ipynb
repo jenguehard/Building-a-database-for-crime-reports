{
 "cells": [
  {
   "cell_type": "markdown",
   "metadata": {},
   "source": [
    "# Building a database for crime reports"
   ]
  },
  {
   "cell_type": "markdown",
   "metadata": {},
   "source": [
    "In this guided project, we will build a database for storing data related with crimes that occurred in Boston. This dataset is available in the file boston.csv."
   ]
  },
  {
   "cell_type": "code",
   "execution_count": 1,
   "metadata": {
    "collapsed": false
   },
   "outputs": [
    {
     "data": {
      "text/html": [
       "<div>\n",
       "<style scoped>\n",
       "    .dataframe tbody tr th:only-of-type {\n",
       "        vertical-align: middle;\n",
       "    }\n",
       "\n",
       "    .dataframe tbody tr th {\n",
       "        vertical-align: top;\n",
       "    }\n",
       "\n",
       "    .dataframe thead th {\n",
       "        text-align: right;\n",
       "    }\n",
       "</style>\n",
       "<table border=\"1\" class=\"dataframe\">\n",
       "  <thead>\n",
       "    <tr style=\"text-align: right;\">\n",
       "      <th></th>\n",
       "      <th>incident_number</th>\n",
       "      <th>offense_code</th>\n",
       "      <th>description</th>\n",
       "      <th>date</th>\n",
       "      <th>day_of_the_week</th>\n",
       "      <th>lat</th>\n",
       "      <th>long</th>\n",
       "    </tr>\n",
       "  </thead>\n",
       "  <tbody>\n",
       "    <tr>\n",
       "      <th>0</th>\n",
       "      <td>1</td>\n",
       "      <td>619</td>\n",
       "      <td>LARCENY ALL OTHERS</td>\n",
       "      <td>2018-09-02</td>\n",
       "      <td>Sunday</td>\n",
       "      <td>42.357791</td>\n",
       "      <td>-71.139371</td>\n",
       "    </tr>\n",
       "    <tr>\n",
       "      <th>1</th>\n",
       "      <td>2</td>\n",
       "      <td>1402</td>\n",
       "      <td>VANDALISM</td>\n",
       "      <td>2018-08-21</td>\n",
       "      <td>Tuesday</td>\n",
       "      <td>42.306821</td>\n",
       "      <td>-71.060300</td>\n",
       "    </tr>\n",
       "    <tr>\n",
       "      <th>2</th>\n",
       "      <td>3</td>\n",
       "      <td>3410</td>\n",
       "      <td>TOWED MOTOR VEHICLE</td>\n",
       "      <td>2018-09-03</td>\n",
       "      <td>Monday</td>\n",
       "      <td>42.346589</td>\n",
       "      <td>-71.072429</td>\n",
       "    </tr>\n",
       "    <tr>\n",
       "      <th>3</th>\n",
       "      <td>4</td>\n",
       "      <td>3114</td>\n",
       "      <td>INVESTIGATE PROPERTY</td>\n",
       "      <td>2018-09-03</td>\n",
       "      <td>Monday</td>\n",
       "      <td>42.334182</td>\n",
       "      <td>-71.078664</td>\n",
       "    </tr>\n",
       "    <tr>\n",
       "      <th>4</th>\n",
       "      <td>5</td>\n",
       "      <td>3114</td>\n",
       "      <td>INVESTIGATE PROPERTY</td>\n",
       "      <td>2018-09-03</td>\n",
       "      <td>Monday</td>\n",
       "      <td>42.275365</td>\n",
       "      <td>-71.090361</td>\n",
       "    </tr>\n",
       "  </tbody>\n",
       "</table>\n",
       "</div>"
      ],
      "text/plain": [
       "   incident_number  offense_code           description        date  \\\n",
       "0                1           619    LARCENY ALL OTHERS  2018-09-02   \n",
       "1                2          1402             VANDALISM  2018-08-21   \n",
       "2                3          3410   TOWED MOTOR VEHICLE  2018-09-03   \n",
       "3                4          3114  INVESTIGATE PROPERTY  2018-09-03   \n",
       "4                5          3114  INVESTIGATE PROPERTY  2018-09-03   \n",
       "\n",
       "  day_of_the_week        lat       long  \n",
       "0          Sunday  42.357791 -71.139371  \n",
       "1         Tuesday  42.306821 -71.060300  \n",
       "2          Monday  42.346589 -71.072429  \n",
       "3          Monday  42.334182 -71.078664  \n",
       "4          Monday  42.275365 -71.090361  "
      ]
     },
     "execution_count": 1,
     "metadata": {},
     "output_type": "execute_result"
    }
   ],
   "source": [
    "import csv\n",
    "import pandas as pd\n",
    "data=pd.read_csv('boston.csv')\n",
    "data.head()"
   ]
  },
  {
   "cell_type": "markdown",
   "metadata": {},
   "source": [
    "The first column represents the identifier of the crime. The second contains a numeric identifier code for the committed crime. The third represents a description of the crime. The next two rows contain the date on which the crime happened and the corresponding day of the week. Finally, the last two columns represent the location of the crime with a latitude and longitude coordinates."
   ]
  },
  {
   "cell_type": "markdown",
   "metadata": {},
   "source": [
    "The goal of this project is to create a database named crimes_db with a table – boston_crimes – with appropriate datatypes for storing the data from the boston.csv file.\n",
    "\n",
    "We will be creating the table inside a schema named crimes. We will also create the readonly and readwrite groups with the appropriate privileges. Finally, we will also need to create one user for each of these groups."
   ]
  },
  {
   "cell_type": "markdown",
   "metadata": {},
   "source": [
    "## Create the database and the schema"
   ]
  },
  {
   "cell_type": "markdown",
   "metadata": {},
   "source": [
    "We will start by creating a database for storing our crime data as well as a schema for containing the tables."
   ]
  },
  {
   "cell_type": "code",
   "execution_count": 2,
   "metadata": {
    "collapsed": false
   },
   "outputs": [],
   "source": [
    "import psycopg2\n",
    "conn = psycopg2.connect(\"dbname = dq user = dq\")\n",
    "conn.autocommit = True\n",
    "cur = conn.cursor()\n",
    "cur.execute(\"CREATE DATABASE crime_db;\")\n",
    "conn.close()"
   ]
  },
  {
   "cell_type": "code",
   "execution_count": 3,
   "metadata": {
    "collapsed": true
   },
   "outputs": [],
   "source": [
    "conn = psycopg2.connect(\"dbname = crime_db user = dq\")\n",
    "conn.autocommit = True\n",
    "cur=conn.cursor()\n",
    "cur.execute(\"CREATE SCHEMA crimes;\")"
   ]
  },
  {
   "cell_type": "markdown",
   "metadata": {},
   "source": [
    "## Obtaining the Column Names and Sample"
   ]
  },
  {
   "cell_type": "markdown",
   "metadata": {},
   "source": [
    "We now have a database and a schema — we are ready to start creating tables. Before we do that, let's gather some data about our crime dataset so that we can more easily select the right datatypes to use in our table.\n",
    "\n",
    "Let's start by reading the column names from the boston.csv file as well as the first row. In this way we will have them at hand throughout this guided project so that we can easily take a look at them at any moment."
   ]
  },
  {
   "cell_type": "code",
   "execution_count": 4,
   "metadata": {
    "collapsed": false
   },
   "outputs": [
    {
     "name": "stdout",
     "output_type": "stream",
     "text": [
      "['incident_number', 'offense_code', 'description', 'date', 'day_of_the_week', 'lat', 'long']\n",
      "['1', '619', 'LARCENY ALL OTHERS', '2018-09-02', 'Sunday', '42.35779134', '-71.13937053']\n"
     ]
    }
   ],
   "source": [
    "with open(\"boston.csv\") as file:\n",
    "    reader = csv.reader(file)\n",
    "    col_headers = next(reader)\n",
    "    first_row = next(reader)\n",
    "\n",
    "print(col_headers)\n",
    "print(first_row)"
   ]
  },
  {
   "cell_type": "markdown",
   "metadata": {},
   "source": [
    "## Creating a function for analyzing column values"
   ]
  },
  {
   "cell_type": "markdown",
   "metadata": {},
   "source": [
    "We now have access to the column headers and the first row of data. This will help us when we create the table as we will not have to remember the names of the columns and using the first row of data we can easily recall what kind of data is stored in each column.\n",
    "\n",
    "Before we create a table for storing the crime data, we need to identify the proper datatypes for the columns. To help us with that, let's create a function — get_col_value_set() — that given the name of a CSV file and a column index (starting a 0) that computes a Python set with all distinct values contained in that column.\n",
    "\n",
    "This function will be useful for two reasons:\n",
    "\n",
    "- Checking whether an enumerated datatype might be a good choice for representing a column.\n",
    "- Computing the maximum length of any text-like column to select appropriate sizes for VARCHAR columns."
   ]
  },
  {
   "cell_type": "code",
   "execution_count": 5,
   "metadata": {
    "collapsed": false
   },
   "outputs": [
    {
     "name": "stdout",
     "output_type": "stream",
     "text": [
      "incident_number\t298329\n",
      "offense_code\t219\n",
      "description\t239\n",
      "date\t1177\n",
      "day_of_the_week\t7\n",
      "lat\t18177\n",
      "long\t18177\n"
     ]
    }
   ],
   "source": [
    "def get_col_value_set(csv_filename, col_index):\n",
    "    import csv\n",
    "    values = set()\n",
    "    with open(csv_filename, 'r') as f:\n",
    "        next(f)\n",
    "        reader = csv.reader(f)\n",
    "        for row in reader:\n",
    "            values.add(row[col_index])\n",
    "    return values\n",
    "\n",
    "for i in range(len(col_headers)):\n",
    "    values = get_col_value_set(\"boston.csv\", i)\n",
    "    print(col_headers[i], len(values), sep = '\\t')"
   ]
  },
  {
   "cell_type": "markdown",
   "metadata": {},
   "source": [
    "## Analyzing the maximum length of the description column"
   ]
  },
  {
   "cell_type": "markdown",
   "metadata": {},
   "source": [
    "With the function from the previous screen we can compute the number of distinct values for each column. Columns with a low number of distinct values tend to be good candidates for enumerated datatypes."
   ]
  },
  {
   "cell_type": "markdown",
   "metadata": {},
   "source": [
    "There are two textual column in the data set, namely, the description and day_of_the_week columns. However the day of the week contains only 7 values, one for each day. We can tell that the longest of them is Wednesday without needing any computation."
   ]
  },
  {
   "cell_type": "code",
   "execution_count": 6,
   "metadata": {
    "collapsed": false
   },
   "outputs": [
    {
     "name": "stdout",
     "output_type": "stream",
     "text": [
      "['incident_number', 'offense_code', 'description', 'date', 'day_of_the_week', 'lat', 'long']\n"
     ]
    }
   ],
   "source": [
    "print(col_headers)"
   ]
  },
  {
   "cell_type": "markdown",
   "metadata": {},
   "source": [
    "Description is at index 2."
   ]
  },
  {
   "cell_type": "code",
   "execution_count": 7,
   "metadata": {
    "collapsed": false
   },
   "outputs": [
    {
     "name": "stdout",
     "output_type": "stream",
     "text": [
      "58\n"
     ]
    }
   ],
   "source": [
    "descriptions = get_col_value_set(\"boston.csv\", 2)\n",
    "max_len = 0\n",
    "for description in descriptions:\n",
    "    max_len = max(max_len, len(description))\n",
    "\n",
    "print(max_len)"
   ]
  },
  {
   "cell_type": "markdown",
   "metadata": {},
   "source": [
    "## Creating the table"
   ]
  },
  {
   "cell_type": "markdown",
   "metadata": {},
   "source": [
    "Let's create a table for storing the Boston crime data. Remember the information that we have gathered in the two previous screens, namely, the number of different values of each column and the maximum length of the string columns."
   ]
  },
  {
   "cell_type": "markdown",
   "metadata": {},
   "source": [
    "We will create an enumerated datatype named weekday for the day_of_the_week since there there only seven possible values.\n",
    "\n",
    "For the incident_number we have decided to user the type INTEGER and set it as the primary key. The same datatype was also used to represent the offense_code.\n",
    "\n",
    "Since the description has at most 58 character we decided to use the datatype VARCHAR(100) for representing it. This leave some margin while not being so big that we will waste a lot of memory.\n",
    "\n",
    "The date was represented as the DATE datatype. Finally, for the latitude and longitude we used DECIMAL datatypes."
   ]
  },
  {
   "cell_type": "markdown",
   "metadata": {},
   "source": [
    "\n",
    "We will use the same names for the column headers."
   ]
  },
  {
   "cell_type": "code",
   "execution_count": 8,
   "metadata": {
    "collapsed": true
   },
   "outputs": [],
   "source": [
    "cur.execute(\"CREATE TYPE weekday AS ENUM ('Monday', 'Tuesday', 'Wednesday', 'Thursday', 'Friday', 'Saturday', 'Sunday');\")"
   ]
  },
  {
   "cell_type": "code",
   "execution_count": 9,
   "metadata": {
    "collapsed": true
   },
   "outputs": [],
   "source": [
    "cur.execute(\"\"\"\n",
    "    CREATE TABLE crimes.boston_crimes (\n",
    "    incident_number INTEGER PRIMARY KEY,\n",
    "    offense_code INTEGER,\n",
    "    description VARCHAR(100),\n",
    "    date DATE,\n",
    "    day_of_the_week weekday,\n",
    "    lat decimal,\n",
    "    long decimal);\"\"\")"
   ]
  },
  {
   "cell_type": "markdown",
   "metadata": {},
   "source": [
    "## Load the data into the table"
   ]
  },
  {
   "cell_type": "markdown",
   "metadata": {},
   "source": [
    "We used the copy_expert to load the data as it is very fast and very succinct to use."
   ]
  },
  {
   "cell_type": "code",
   "execution_count": 10,
   "metadata": {
    "collapsed": false
   },
   "outputs": [
    {
     "name": "stdout",
     "output_type": "stream",
     "text": [
      "298329\n"
     ]
    }
   ],
   "source": [
    "with open(\"boston.csv\") as f:\n",
    "    cur.copy_expert(\"COPY crimes.boston_crimes FROM STDIN WITH CSV HEADER;\", f)\n",
    "cur.execute(\"SELECT * FROM crimes.boston_crimes\")\n",
    "print(len(cur.fetchall()))"
   ]
  },
  {
   "cell_type": "markdown",
   "metadata": {},
   "source": [
    "## Revoke public privileges"
   ]
  },
  {
   "cell_type": "markdown",
   "metadata": {},
   "source": [
    "Our database is starting to look good! We have created a database with a schema inside it for hold data about crimes. We selected the right datatypes for storing the data, created a table and loaded the CSV containing crimes about Boston.\n",
    "\n",
    "Now it is time to handle users. Our goal is to create the two user groups: readonly and readwrite. By following the least privilege principle, the first step in doing so is to make sure that there are no privileges inherited from the public group and on the public schema."
   ]
  },
  {
   "cell_type": "code",
   "execution_count": 11,
   "metadata": {
    "collapsed": true
   },
   "outputs": [],
   "source": [
    "cur.execute(\"REVOKE ALL ON SCHEMA public FROM public;\")\n",
    "cur.execute(\"REVOKE ALL ON DATABASE crime_db FROM public;\")"
   ]
  },
  {
   "cell_type": "markdown",
   "metadata": {},
   "source": [
    "## Creating the read only and read write  groups"
   ]
  },
  {
   "cell_type": "markdown",
   "metadata": {},
   "source": [
    "We have made sure that we are not going to inadvertently inherit privileges from the public group. The next step is to create our two users groups.\n",
    "\n",
    "That the readonly group is supposed to only privileges to perform SELECT queries. In contrast, we want the readwrite group to be able to perform SELECT, INSERT, DELETE and UPDATE queries. To grant INSERT and SELECT privileges in all tables inside a schema we can use the command:"
   ]
  },
  {
   "cell_type": "markdown",
   "metadata": {},
   "source": [
    "Both these uses will also need the following:\n",
    "\n",
    "- Connection privileges on the crime_db — otherwise, they won't be able to do anything.\n",
    "- Usage of the crimes schema — this is where all data will be stored."
   ]
  },
  {
   "cell_type": "code",
   "execution_count": 13,
   "metadata": {
    "collapsed": false
   },
   "outputs": [],
   "source": [
    "cur.execute(\"CREATE GROUP readonly WITH NOLOGIN;\")\n",
    "cur.execute(\"GRANT CONNECT ON DATABASE crime_db TO readonly;\")\n",
    "cur.execute(\"GRANT USAGE ON SCHEMA crimes TO readonly;\")\n",
    "cur.execute(\"GRANT SELECT ON ALL TABLES IN SCHEMA crimes TO readonly;\")"
   ]
  },
  {
   "cell_type": "code",
   "execution_count": 14,
   "metadata": {
    "collapsed": true
   },
   "outputs": [],
   "source": [
    "cur.execute(\"CREATE GROUP readwrite WITH NOLOGIN;\")\n",
    "cur.execute(\"GRANT CONNECT ON DATABASE crime_db TO readwrite;\")\n",
    "cur.execute(\"GRANT USAGE ON SCHEMA crimes TO readwrite;\")\n",
    "cur.execute(\"GRANT SELECT, INSERT, DELETE, UPDATE ON ALL TABLES IN SCHEMA crimes TO readwrite;\")"
   ]
  },
  {
   "cell_type": "markdown",
   "metadata": {
    "collapsed": true
   },
   "source": [
    "## Creating one user for each group"
   ]
  },
  {
   "cell_type": "markdown",
   "metadata": {},
   "source": [
    "Let's wrap up the project by creating one user in each group. We will need to create each user and then assign them to each group. "
   ]
  },
  {
   "cell_type": "code",
   "execution_count": 20,
   "metadata": {
    "collapsed": false
   },
   "outputs": [],
   "source": [
    "cur.execute(\"CREATE USER data_analyst WITH PASSWORD 'secret1';\")\n",
    "cur.execute(\"GRANT readonly TO data_analyst;\")\n",
    "\n",
    "cur.execute(\"CREATE USER data_scientist WITH PASSWORD 'secret2';\")\n",
    "cur.execute(\"GRANT readwrite TO data_scientist;\")"
   ]
  },
  {
   "cell_type": "markdown",
   "metadata": {},
   "source": [
    "## Test the database setup"
   ]
  },
  {
   "cell_type": "markdown",
   "metadata": {},
   "source": [
    "Test the database setup using SQL queries on the pg_roles table and information_schema.table_privileges.\n",
    "\n",
    "In the pg_roles table we will check database related privileges and for that we will look at the following columns:\n",
    "\n",
    "- rolname: The name of the user / group that the privilege refers to.\n",
    "- rolsuper: Whether this user / group is a super user. It should be set to False on every user / group that we have created.\n",
    "- rolcreaterole: Whether user / group can create users, groups or roles. It should be False on every user / group that we have created.\n",
    "- rolcreatedb: Whether user / group can create databases. It should be False on every user / group that we have created.\n",
    "- rolcanlogin: Whether user / group can login. It should be True on the users and False on the groups that we have created.\n",
    "\n",
    "In the information_schema.table_privileges we will check privileges related to SQL queries on tables. We will list the privileges of each group that we have created."
   ]
  },
  {
   "cell_type": "code",
   "execution_count": null,
   "metadata": {
    "collapsed": true
   },
   "outputs": [],
   "source": [
    "conn.close()\n",
    "\n",
    "conn = psycopg2.connect(\"dbname = crim_db user = dq\")\n",
    "\n",
    "cur = conn.cursor()\n",
    "cur.execute(\"\"\"\n",
    "SELECT rolname, rolsuper, rolcreaterol, rolcreatedb, rolcanlogin\n",
    "FROM pg_roles\n",
    "WHERE rolname IN ('readonly', 'readwrite', 'data_analyst', 'data_scientist');\"\"\")\n",
    "\n",
    "cur.execute(\"\"\"\n",
    "SELECT grantee, privilege_type\n",
    "FROM information_schema.table_privileges\n",
    "WHERE grantee = 'readwrite'\"\"\")"
   ]
  }
 ],
 "metadata": {
  "kernelspec": {
   "display_name": "Python 3",
   "language": "python",
   "name": "python3"
  },
  "language_info": {
   "codemirror_mode": {
    "name": "ipython",
    "version": 3
   },
   "file_extension": ".py",
   "mimetype": "text/x-python",
   "name": "python",
   "nbconvert_exporter": "python",
   "pygments_lexer": "ipython3",
   "version": "3.4.3"
  }
 },
 "nbformat": 4,
 "nbformat_minor": 2
}
